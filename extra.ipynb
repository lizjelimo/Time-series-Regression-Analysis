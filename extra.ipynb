{
 "cells": [
  {
   "cell_type": "code",
   "execution_count": null,
   "metadata": {},
   "outputs": [],
   "source": [
    "# import pandas as pd\n",
    "\n",
    "# # Define the preprocessing function\n",
    "# def preprocess_data(df):\n",
    "#     # Fill missing holiday/event data with default values\n",
    "#     df['type_x'].fillna('No Event', inplace=True)\n",
    "#     df['locale'].fillna('None', inplace=True)\n",
    "#     df['locale_name'].fillna('None', inplace=True)\n",
    "#     df['description'].fillna('No Description', inplace=True)\n",
    "#     df['transferred'].fillna(False, inplace=True)\n",
    "    \n",
    "#     # Handle missing oil prices using forward fill and backward fill\n",
    "#     df['dcoilwtico'].fillna(method='ffill', inplace=True)\n",
    "#     df['dcoilwtico'].fillna(method='bfill', inplace=True)\n",
    "    \n",
    "#     # Fill missing transactions with zero\n",
    "#     df['transactions'].fillna(0, inplace=True)\n",
    "    \n",
    "#     return df\n",
    "\n",
    "# # Load the data\n",
    "# train = pd.read_csv('train.csv', parse_dates=['date'])\n",
    "# test = pd.read_csv('test.csv', parse_dates=['date'])\n",
    "# transactions = pd.read_csv('transactions.csv', parse_dates=['date'])\n",
    "# oil = pd.read_csv('oil.csv', parse_dates=['date'])\n",
    "# holidays = pd.read_csv('holidays_events.csv', parse_dates=['date'])\n",
    "\n",
    "# Example merges (adjust as necessary)\n",
    "train_merged = pd.merge(train, holidays, on='date', how='left')\n",
    "train_merged = pd.merge(train_merged, oil, on='date', how='left')\n",
    "train_merged = pd.merge(train_merged, transactions, on=['date', 'store_nbr'], how='left')\n",
    "\n",
    "test_merged = pd.merge(test, holidays, on='date', how='left')\n",
    "test_merged = pd.merge(test_merged, oil, on='date', how='left')\n",
    "test_merged = pd.merge(test_merged, transactions, on=['date', 'store_nbr'], how='left')\n",
    "\n",
    "# Apply preprocessing to both training and test data\n",
    "train_processed = preprocess_data(train_merged)\n",
    "test_processed = preprocess_data(test_merged)\n",
    "\n",
    "# Check for remaining null values in both datasets\n",
    "print(train_processed.isnull().sum())\n",
    "print(test_processed.isnull().sum())\n"
   ]
  }
 ],
 "metadata": {
  "language_info": {
   "name": "python"
  }
 },
 "nbformat": 4,
 "nbformat_minor": 2
}
